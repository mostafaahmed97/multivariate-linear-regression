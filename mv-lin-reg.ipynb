{
 "cells": [
  {
   "cell_type": "code",
   "execution_count": 5,
   "metadata": {},
   "outputs": [],
   "source": [
    "import numpy as np\n",
    "import matplotlib.pyplot as plt\n",
    "from sklearn.datasets import make_regression\n",
    "from sklearn.model_selection import train_test_split\n",
    "from sklearn.preprocessing import StandardScaler\n",
    "from sklearn.metrics import r2_score\n",
    "from sklearn.metrics import mean_squared_error"
   ]
  },
  {
   "cell_type": "markdown",
   "metadata": {},
   "source": [
    "#### Generating & Visualizing Data\n"
   ]
  },
  {
   "cell_type": "code",
   "execution_count": 6,
   "metadata": {},
   "outputs": [
    {
     "name": "stdout",
     "output_type": "stream",
     "text": [
      "(50, 1)\n",
      "(50,)\n"
     ]
    },
    {
     "data": {
      "text/plain": [
       "<matplotlib.collections.PathCollection at 0x1d20b3f4340>"
      ]
     },
     "execution_count": 6,
     "metadata": {},
     "output_type": "execute_result"
    },
    {
     "data": {
      "image/png": "[encoded data removed]",
      "text/plain": [
       "<Figure size 432x288 with 1 Axes>"
      ]
     },
     "metadata": {
      "needs_background": "light"
     },
     "output_type": "display_data"
    }
   ],
   "source": [
    "X, y, coef = make_regression(n_features=1, noise=20, n_samples=50, coef=True, random_state=3)\n",
    "\n",
    "print(X.shape)\n",
    "print(y.shape)\n",
    "\n",
    "plt.scatter(X[:,0], y)"
   ]
  },
  {
   "cell_type": "markdown",
   "metadata": {},
   "source": [
    "#### Pre Processing Function"
   ]
  },
  {
   "cell_type": "code",
   "execution_count": 7,
   "metadata": {},
   "outputs": [],
   "source": [
    "def pre_process(X):\n",
    "    \"\"\" Appends one to data matrix to account for bias\"\"\"\n",
    "    ones = np.ones(X.shape[0]).reshape(-1,1)\n",
    "    return np.hstack((ones, X))"
   ]
  },
  {
   "cell_type": "markdown",
   "metadata": {},
   "source": [
    "#### Model Training Function"
   ]
  },
  {
   "cell_type": "code",
   "execution_count": 8,
   "metadata": {},
   "outputs": [],
   "source": [
    "def linear_regression(X, y, alpha=0.01, n_iterations=100):\n",
    "    \"\"\" \n",
    "        Function that performs training on data and returns weights\n",
    "        Arguements:\n",
    "            X: Data matrix of size n*m, n=number of samples & m=number of features\n",
    "            y: Predictions Vector, of size n*1\n",
    "            alpha: Learning rate for optimizing with gradient\n",
    "            n_iterations: Maximum number of iterations while training\n",
    "        Returns:\n",
    "            weights: Final model weights after training\n",
    "            loss_history: Loss in each iteration of training\n",
    "            weights_history: Weights in each iteration of training\n",
    "    \"\"\"\n",
    "    X = pre_process(X)\n",
    "    n_features = X.shape[1]\n",
    "    n_samples = X.shape[0]\n",
    "    loss_history = []\n",
    "    weights_history = []\n",
    "    \n",
    "    weights = np.zeros(n_features)\n",
    "\n",
    "    for n in range(n_iterations):\n",
    "        yhat= X @ weights\n",
    "        error = yhat - y\n",
    "        \n",
    "        cost = (error ** 2).mean()\n",
    "        loss_history.append(cost)\n",
    "        \n",
    "        grad_vector = (X.T @ error) * (2/n_samples)\n",
    "#         grad_vector = np.array(\n",
    "#             [(2/n_samples) * np.sum((error) * X[:,i]) for i in range(n_features)]\n",
    "#         )\n",
    "\n",
    "        weights = weights -  (alpha * grad_vector)\n",
    "        weights_history.append(weights)\n",
    "        \n",
    "\n",
    "    return np.array(weights), np.array(loss_history), np.array(weights_history)"
   ]
  },
  {
   "cell_type": "markdown",
   "metadata": {},
   "source": [
    "#### Prediction Function"
   ]
  },
  {
   "cell_type": "code",
   "execution_count": 9,
   "metadata": {},
   "outputs": [],
   "source": [
    "def perform_predictions(samples, weights):\n",
    "    samples = pre_process(samples)\n",
    "    predictions = samples @ weights\n",
    "    return predictions"
   ]
  },
  {
   "cell_type": "markdown",
   "metadata": {},
   "source": [
    "#### Compute Error Metrics Function"
   ]
  },
  {
   "cell_type": "code",
   "execution_count": 10,
   "metadata": {},
   "outputs": [],
   "source": [
    "def compute_error_metrics(y_hat, y):\n",
    "    r2 = r2_score(y_hat, y)\n",
    "    mse = mean_squared_error(y_hat, y)\n",
    "    return r2, mse"
   ]
  },
  {
   "cell_type": "markdown",
   "metadata": {},
   "source": [
    "### Pipeline\n",
    "\n",
    "1. Pre Process & Split Data\n",
    "2. Train Model\n",
    "3. Compute Errors"
   ]
  },
  {
   "cell_type": "code",
   "execution_count": 11,
   "metadata": {},
   "outputs": [
    {
     "name": "stdout",
     "output_type": "stream",
     "text": [
      "R2 Score:  0.8063652716216155\n",
      "MSE:  460.04970637683704\n"
     ]
    }
   ],
   "source": [
    "X_train, X_test, y_train, y_test = train_test_split(X, y, random_state=1)\n",
    "weights, loss_history, weights_history = linear_regression(X_train, y_train, alpha=0.01, n_iterations=1000)\n",
    "predictions = perform_predictions(X_test, weights)\n",
    "r2, mse = compute_error_metrics(predictions, y_test)\n",
    "\n",
    "print('R2 Score: ', r2)\n",
    "print('MSE: ', mse)"
   ]
  },
  {
   "cell_type": "code",
   "execution_count": 12,
   "metadata": {},
   "outputs": [
    {
     "data": {
      "image/png": "[encoded data removed]",
      "text/plain": [
       "<Figure size 432x288 with 1 Axes>"
      ]
     },
     "metadata": {
      "needs_background": "light"
     },
     "output_type": "display_data"
    }
   ],
   "source": [
    "plt.plot(X_test, predictions, c='r')\n",
    "plt.scatter(X_test, y_test, c='b')\n",
    "\n",
    "for idx, x in enumerate(X_test[:,0]):\n",
    "    plt.plot([x, x], [y_test[idx], predictions[idx]] ,c='g', linestyle='--')"
   ]
  },
  {
   "cell_type": "markdown",
   "metadata": {},
   "source": [
    "### Gradient weights VS weights from normal equation"
   ]
  },
  {
   "cell_type": "code",
   "execution_count": 58,
   "metadata": {},
   "outputs": [
    {
     "name": "stdout",
     "output_type": "stream",
     "text": [
      "[74.28755964]\n",
      "[ 5.19445859 75.91707477]\n"
     ]
    }
   ],
   "source": [
    "normal_eqn_weights = np.linalg.inv(X_train.T @ X_train) @ X_train.T @ y_train\n",
    "\n",
    "print(normal_eqn_weights)\n",
    "print(weights)"
   ]
  },
  {
   "cell_type": "markdown",
   "metadata": {},
   "source": [
    "\n",
    "## Extras\n",
    "## Testing different learning rates"
   ]
  },
  {
   "cell_type": "code",
   "execution_count": 44,
   "metadata": {},
   "outputs": [
    {
     "data": {
      "text/plain": [
       "<matplotlib.legend.Legend at 0x1a95e3b2610>"
      ]
     },
     "execution_count": 44,
     "metadata": {},
     "output_type": "execute_result"
    },
    {
     "data": {
      "image/png": "[encoded data removed]",
      "text/plain": [
       "<Figure size 432x288 with 1 Axes>"
      ]
     },
     "metadata": {
      "needs_background": "light"
     },
     "output_type": "display_data"
    }
   ],
   "source": [
    "rates = [0.00001, 0.0001, 0.001, 0.01, 0.1, 0.5]\n",
    "losses = []\n",
    "\n",
    "for rate in rates:\n",
    "    loss_history = linear_regression(X_train, y_train, alpha=rate, n_iterations=1000)[1]\n",
    "    losses.append(loss_history)\n",
    "    \n",
    "for idx,loss in enumerate(losses):\n",
    "    plt.plot(loss, label=f'{rates[idx]}')\n",
    "    \n",
    "plt.legend()"
   ]
  },
  {
   "cell_type": "code",
   "execution_count": null,
   "metadata": {},
   "outputs": [],
   "source": []
  }
 ],
 "metadata": {
  "kernelspec": {
   "display_name": "Python 3",
   "language": "python",
   "name": "python3"
  },
  "language_info": {
   "codemirror_mode": {
    "name": "ipython",
    "version": 3
   },
   "file_extension": ".py",
   "mimetype": "text/x-python",
   "name": "python",
   "nbconvert_exporter": "python",
   "pygments_lexer": "ipython3",
   "version": "3.8.5"
  }
 },
 "nbformat": 4,
 "nbformat_minor": 4
}
